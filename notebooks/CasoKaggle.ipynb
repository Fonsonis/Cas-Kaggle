{
 "cells": [
  {
   "cell_type": "code",
   "execution_count": 1,
   "metadata": {},
   "outputs": [],
   "source": [
    "#Librerias\n",
    "import pandas as pd\n",
    "import matplotlib.pyplot as plt\n",
    "import numpy as np\n",
    "import seaborn as sns;\n",
    "from sklearn import preprocessing\n",
    "import matplotlib.pyplot as plt\n",
    "import plotly.express as px\n",
    "import plotly.graph_objects as go\n",
    "\n",
    "#Preparación datos\n",
    "from sklearn.model_selection import train_test_split\n",
    "from sklearn.preprocessing import StandardScaler\n",
    "from sklearn.metrics import f1_score\n",
    "\n",
    "#Modelos\n",
    "from sklearn.tree import DecisionTreeClassifier\n",
    "from sklearn.linear_model import LogisticRegression\n",
    "from sklearn.model_selection import cross_val_score"
   ]
  },
  {
   "cell_type": "markdown",
   "metadata": {},
   "source": [
    "## Introducción\n",
    "\n",
    "En esta practica buscamos poner en práctica todo lo aprendido todo lo visto en APC tanto en las clases de teoria como en las sesiones de prácticas. Queremos poner en práctica nuestro conocimiento de aprendizaje computacional para llevar a cabo una investigación sobre un dataset que se nos ha asignado.\n",
    "\n",
    "## Carga del dataset y análisis de los datos\n",
    "\n",
    "En mi caso el dataset que voy a investigar contiene los datos sobre algunos de los videojuegos que se vendieron durante el año 2019 en múltiples plataformas. Mediante métodos de classificación de aprendizaje computacional trataré de ver que plataformas han sido más utilizadas durante ese año y que juegos tubieron un mayor impacto para la industria de los videojuegos, así como la posible correlación que puedan tener las diferentes variables del dataset."
   ]
  },
  {
   "cell_type": "code",
   "execution_count": 2,
   "metadata": {},
   "outputs": [
    {
     "data": {
      "text/html": [
       "<div>\n",
       "<style scoped>\n",
       "    .dataframe tbody tr th:only-of-type {\n",
       "        vertical-align: middle;\n",
       "    }\n",
       "\n",
       "    .dataframe tbody tr th {\n",
       "        vertical-align: top;\n",
       "    }\n",
       "\n",
       "    .dataframe thead th {\n",
       "        text-align: right;\n",
       "    }\n",
       "</style>\n",
       "<table border=\"1\" class=\"dataframe\">\n",
       "  <thead>\n",
       "    <tr style=\"text-align: right;\">\n",
       "      <th></th>\n",
       "      <th>Rank</th>\n",
       "      <th>Name</th>\n",
       "      <th>basename</th>\n",
       "      <th>Genre</th>\n",
       "      <th>ESRB_Rating</th>\n",
       "      <th>Platform</th>\n",
       "      <th>Publisher</th>\n",
       "      <th>Developer</th>\n",
       "      <th>VGChartz_Score</th>\n",
       "      <th>Critic_Score</th>\n",
       "      <th>...</th>\n",
       "      <th>NA_Sales</th>\n",
       "      <th>PAL_Sales</th>\n",
       "      <th>JP_Sales</th>\n",
       "      <th>Other_Sales</th>\n",
       "      <th>Year</th>\n",
       "      <th>Last_Update</th>\n",
       "      <th>url</th>\n",
       "      <th>status</th>\n",
       "      <th>Vgchartzscore</th>\n",
       "      <th>img_url</th>\n",
       "    </tr>\n",
       "  </thead>\n",
       "  <tbody>\n",
       "    <tr>\n",
       "      <th>0</th>\n",
       "      <td>1</td>\n",
       "      <td>Wii Sports</td>\n",
       "      <td>wii-sports</td>\n",
       "      <td>Sports</td>\n",
       "      <td>E</td>\n",
       "      <td>Wii</td>\n",
       "      <td>Nintendo</td>\n",
       "      <td>Nintendo EAD</td>\n",
       "      <td>NaN</td>\n",
       "      <td>7.7</td>\n",
       "      <td>...</td>\n",
       "      <td>NaN</td>\n",
       "      <td>NaN</td>\n",
       "      <td>NaN</td>\n",
       "      <td>NaN</td>\n",
       "      <td>2006.0</td>\n",
       "      <td>NaN</td>\n",
       "      <td>http://www.vgchartz.com/game/2667/wii-sports/?...</td>\n",
       "      <td>1</td>\n",
       "      <td>NaN</td>\n",
       "      <td>/games/boxart/full_2258645AmericaFrontccc.jpg</td>\n",
       "    </tr>\n",
       "    <tr>\n",
       "      <th>1</th>\n",
       "      <td>2</td>\n",
       "      <td>Super Mario Bros.</td>\n",
       "      <td>super-mario-bros</td>\n",
       "      <td>Platform</td>\n",
       "      <td>NaN</td>\n",
       "      <td>NES</td>\n",
       "      <td>Nintendo</td>\n",
       "      <td>Nintendo EAD</td>\n",
       "      <td>NaN</td>\n",
       "      <td>10.0</td>\n",
       "      <td>...</td>\n",
       "      <td>NaN</td>\n",
       "      <td>NaN</td>\n",
       "      <td>NaN</td>\n",
       "      <td>NaN</td>\n",
       "      <td>1985.0</td>\n",
       "      <td>NaN</td>\n",
       "      <td>http://www.vgchartz.com/game/6455/super-mario-...</td>\n",
       "      <td>1</td>\n",
       "      <td>NaN</td>\n",
       "      <td>/games/boxart/8972270ccc.jpg</td>\n",
       "    </tr>\n",
       "    <tr>\n",
       "      <th>2</th>\n",
       "      <td>3</td>\n",
       "      <td>Mario Kart Wii</td>\n",
       "      <td>mario-kart-wii</td>\n",
       "      <td>Racing</td>\n",
       "      <td>E</td>\n",
       "      <td>Wii</td>\n",
       "      <td>Nintendo</td>\n",
       "      <td>Nintendo EAD</td>\n",
       "      <td>NaN</td>\n",
       "      <td>8.2</td>\n",
       "      <td>...</td>\n",
       "      <td>NaN</td>\n",
       "      <td>NaN</td>\n",
       "      <td>NaN</td>\n",
       "      <td>NaN</td>\n",
       "      <td>2008.0</td>\n",
       "      <td>11th Apr 18</td>\n",
       "      <td>http://www.vgchartz.com/game/6968/mario-kart-w...</td>\n",
       "      <td>1</td>\n",
       "      <td>8.7</td>\n",
       "      <td>/games/boxart/full_8932480AmericaFrontccc.jpg</td>\n",
       "    </tr>\n",
       "    <tr>\n",
       "      <th>3</th>\n",
       "      <td>4</td>\n",
       "      <td>PlayerUnknown's Battlegrounds</td>\n",
       "      <td>playerunknowns-battlegrounds</td>\n",
       "      <td>Shooter</td>\n",
       "      <td>NaN</td>\n",
       "      <td>PC</td>\n",
       "      <td>PUBG Corporation</td>\n",
       "      <td>PUBG Corporation</td>\n",
       "      <td>NaN</td>\n",
       "      <td>NaN</td>\n",
       "      <td>...</td>\n",
       "      <td>NaN</td>\n",
       "      <td>NaN</td>\n",
       "      <td>NaN</td>\n",
       "      <td>NaN</td>\n",
       "      <td>2017.0</td>\n",
       "      <td>13th Nov 18</td>\n",
       "      <td>http://www.vgchartz.com/game/215988/playerunkn...</td>\n",
       "      <td>1</td>\n",
       "      <td>NaN</td>\n",
       "      <td>/games/boxart/full_8052843AmericaFrontccc.jpg</td>\n",
       "    </tr>\n",
       "    <tr>\n",
       "      <th>4</th>\n",
       "      <td>5</td>\n",
       "      <td>Wii Sports Resort</td>\n",
       "      <td>wii-sports-resort</td>\n",
       "      <td>Sports</td>\n",
       "      <td>E</td>\n",
       "      <td>Wii</td>\n",
       "      <td>Nintendo</td>\n",
       "      <td>Nintendo EAD</td>\n",
       "      <td>NaN</td>\n",
       "      <td>8.0</td>\n",
       "      <td>...</td>\n",
       "      <td>NaN</td>\n",
       "      <td>NaN</td>\n",
       "      <td>NaN</td>\n",
       "      <td>NaN</td>\n",
       "      <td>2009.0</td>\n",
       "      <td>NaN</td>\n",
       "      <td>http://www.vgchartz.com/game/24656/wii-sports-...</td>\n",
       "      <td>1</td>\n",
       "      <td>8.8</td>\n",
       "      <td>/games/boxart/full_7295041AmericaFrontccc.jpg</td>\n",
       "    </tr>\n",
       "  </tbody>\n",
       "</table>\n",
       "<p>5 rows × 23 columns</p>\n",
       "</div>"
      ],
      "text/plain": [
       "   Rank                           Name                      basename  \\\n",
       "0     1                     Wii Sports                    wii-sports   \n",
       "1     2              Super Mario Bros.              super-mario-bros   \n",
       "2     3                 Mario Kart Wii                mario-kart-wii   \n",
       "3     4  PlayerUnknown's Battlegrounds  playerunknowns-battlegrounds   \n",
       "4     5              Wii Sports Resort             wii-sports-resort   \n",
       "\n",
       "      Genre ESRB_Rating Platform         Publisher         Developer  \\\n",
       "0    Sports           E      Wii          Nintendo      Nintendo EAD   \n",
       "1  Platform         NaN      NES          Nintendo      Nintendo EAD   \n",
       "2    Racing           E      Wii          Nintendo      Nintendo EAD   \n",
       "3   Shooter         NaN       PC  PUBG Corporation  PUBG Corporation   \n",
       "4    Sports           E      Wii          Nintendo      Nintendo EAD   \n",
       "\n",
       "   VGChartz_Score  Critic_Score  ...  NA_Sales  PAL_Sales  JP_Sales  \\\n",
       "0             NaN           7.7  ...       NaN        NaN       NaN   \n",
       "1             NaN          10.0  ...       NaN        NaN       NaN   \n",
       "2             NaN           8.2  ...       NaN        NaN       NaN   \n",
       "3             NaN           NaN  ...       NaN        NaN       NaN   \n",
       "4             NaN           8.0  ...       NaN        NaN       NaN   \n",
       "\n",
       "   Other_Sales    Year  Last_Update  \\\n",
       "0          NaN  2006.0          NaN   \n",
       "1          NaN  1985.0          NaN   \n",
       "2          NaN  2008.0  11th Apr 18   \n",
       "3          NaN  2017.0  13th Nov 18   \n",
       "4          NaN  2009.0          NaN   \n",
       "\n",
       "                                                 url  status Vgchartzscore  \\\n",
       "0  http://www.vgchartz.com/game/2667/wii-sports/?...       1           NaN   \n",
       "1  http://www.vgchartz.com/game/6455/super-mario-...       1           NaN   \n",
       "2  http://www.vgchartz.com/game/6968/mario-kart-w...       1           8.7   \n",
       "3  http://www.vgchartz.com/game/215988/playerunkn...       1           NaN   \n",
       "4  http://www.vgchartz.com/game/24656/wii-sports-...       1           8.8   \n",
       "\n",
       "                                         img_url  \n",
       "0  /games/boxart/full_2258645AmericaFrontccc.jpg  \n",
       "1                   /games/boxart/8972270ccc.jpg  \n",
       "2  /games/boxart/full_8932480AmericaFrontccc.jpg  \n",
       "3  /games/boxart/full_8052843AmericaFrontccc.jpg  \n",
       "4  /games/boxart/full_7295041AmericaFrontccc.jpg  \n",
       "\n",
       "[5 rows x 23 columns]"
      ]
     },
     "execution_count": 2,
     "metadata": {},
     "output_type": "execute_result"
    }
   ],
   "source": [
    "def load_dataset(path):\n",
    "    dataset = pd.read_csv(path, header=0, delimiter=',')\n",
    "    return dataset\n",
    "\n",
    "dataset = load_dataset('vgsales-12-4-2019.csv')\n",
    "dataset.head()"
   ]
  },
  {
   "cell_type": "markdown",
   "metadata": {},
   "source": [
    "Como vemos nuestro dataset contiene diferentes variables que nos aportan información sobre la venta de algunos de los videojuegos en 2019. A continuación lo que vamos a hacer es juntar todas las ventas en una única columna para facilitar su estudio y eliminar las columnas que no tienen entradas:"
   ]
  },
  {
   "cell_type": "code",
   "execution_count": 3,
   "metadata": {},
   "outputs": [
    {
     "data": {
      "text/html": [
       "<div>\n",
       "<style scoped>\n",
       "    .dataframe tbody tr th:only-of-type {\n",
       "        vertical-align: middle;\n",
       "    }\n",
       "\n",
       "    .dataframe tbody tr th {\n",
       "        vertical-align: top;\n",
       "    }\n",
       "\n",
       "    .dataframe thead th {\n",
       "        text-align: right;\n",
       "    }\n",
       "</style>\n",
       "<table border=\"1\" class=\"dataframe\">\n",
       "  <thead>\n",
       "    <tr style=\"text-align: right;\">\n",
       "      <th></th>\n",
       "      <th>Rank</th>\n",
       "      <th>Name</th>\n",
       "      <th>basename</th>\n",
       "      <th>Genre</th>\n",
       "      <th>ESRB_Rating</th>\n",
       "      <th>Platform</th>\n",
       "      <th>Publisher</th>\n",
       "      <th>Developer</th>\n",
       "      <th>VGChartz_Score</th>\n",
       "      <th>Critic_Score</th>\n",
       "      <th>...</th>\n",
       "      <th>PAL_Sales</th>\n",
       "      <th>JP_Sales</th>\n",
       "      <th>Other_Sales</th>\n",
       "      <th>Year</th>\n",
       "      <th>Last_Update</th>\n",
       "      <th>url</th>\n",
       "      <th>status</th>\n",
       "      <th>Vgchartzscore</th>\n",
       "      <th>img_url</th>\n",
       "      <th>Total_Sales</th>\n",
       "    </tr>\n",
       "  </thead>\n",
       "  <tbody>\n",
       "    <tr>\n",
       "      <th>0</th>\n",
       "      <td>1</td>\n",
       "      <td>Wii Sports</td>\n",
       "      <td>wii-sports</td>\n",
       "      <td>Sports</td>\n",
       "      <td>E</td>\n",
       "      <td>Wii</td>\n",
       "      <td>Nintendo</td>\n",
       "      <td>Nintendo EAD</td>\n",
       "      <td>NaN</td>\n",
       "      <td>7.7</td>\n",
       "      <td>...</td>\n",
       "      <td>NaN</td>\n",
       "      <td>NaN</td>\n",
       "      <td>NaN</td>\n",
       "      <td>2006.0</td>\n",
       "      <td>NaN</td>\n",
       "      <td>http://www.vgchartz.com/game/2667/wii-sports/?...</td>\n",
       "      <td>1</td>\n",
       "      <td>NaN</td>\n",
       "      <td>/games/boxart/full_2258645AmericaFrontccc.jpg</td>\n",
       "      <td>82.86</td>\n",
       "    </tr>\n",
       "    <tr>\n",
       "      <th>1</th>\n",
       "      <td>2</td>\n",
       "      <td>Super Mario Bros.</td>\n",
       "      <td>super-mario-bros</td>\n",
       "      <td>Platform</td>\n",
       "      <td>NaN</td>\n",
       "      <td>NES</td>\n",
       "      <td>Nintendo</td>\n",
       "      <td>Nintendo EAD</td>\n",
       "      <td>NaN</td>\n",
       "      <td>10.0</td>\n",
       "      <td>...</td>\n",
       "      <td>NaN</td>\n",
       "      <td>NaN</td>\n",
       "      <td>NaN</td>\n",
       "      <td>1985.0</td>\n",
       "      <td>NaN</td>\n",
       "      <td>http://www.vgchartz.com/game/6455/super-mario-...</td>\n",
       "      <td>1</td>\n",
       "      <td>NaN</td>\n",
       "      <td>/games/boxart/8972270ccc.jpg</td>\n",
       "      <td>40.24</td>\n",
       "    </tr>\n",
       "    <tr>\n",
       "      <th>2</th>\n",
       "      <td>3</td>\n",
       "      <td>Mario Kart Wii</td>\n",
       "      <td>mario-kart-wii</td>\n",
       "      <td>Racing</td>\n",
       "      <td>E</td>\n",
       "      <td>Wii</td>\n",
       "      <td>Nintendo</td>\n",
       "      <td>Nintendo EAD</td>\n",
       "      <td>NaN</td>\n",
       "      <td>8.2</td>\n",
       "      <td>...</td>\n",
       "      <td>NaN</td>\n",
       "      <td>NaN</td>\n",
       "      <td>NaN</td>\n",
       "      <td>2008.0</td>\n",
       "      <td>11th Apr 18</td>\n",
       "      <td>http://www.vgchartz.com/game/6968/mario-kart-w...</td>\n",
       "      <td>1</td>\n",
       "      <td>8.7</td>\n",
       "      <td>/games/boxart/full_8932480AmericaFrontccc.jpg</td>\n",
       "      <td>37.14</td>\n",
       "    </tr>\n",
       "    <tr>\n",
       "      <th>3</th>\n",
       "      <td>4</td>\n",
       "      <td>PlayerUnknown's Battlegrounds</td>\n",
       "      <td>playerunknowns-battlegrounds</td>\n",
       "      <td>Shooter</td>\n",
       "      <td>NaN</td>\n",
       "      <td>PC</td>\n",
       "      <td>PUBG Corporation</td>\n",
       "      <td>PUBG Corporation</td>\n",
       "      <td>NaN</td>\n",
       "      <td>NaN</td>\n",
       "      <td>...</td>\n",
       "      <td>NaN</td>\n",
       "      <td>NaN</td>\n",
       "      <td>NaN</td>\n",
       "      <td>2017.0</td>\n",
       "      <td>13th Nov 18</td>\n",
       "      <td>http://www.vgchartz.com/game/215988/playerunkn...</td>\n",
       "      <td>1</td>\n",
       "      <td>NaN</td>\n",
       "      <td>/games/boxart/full_8052843AmericaFrontccc.jpg</td>\n",
       "      <td>36.60</td>\n",
       "    </tr>\n",
       "    <tr>\n",
       "      <th>4</th>\n",
       "      <td>5</td>\n",
       "      <td>Wii Sports Resort</td>\n",
       "      <td>wii-sports-resort</td>\n",
       "      <td>Sports</td>\n",
       "      <td>E</td>\n",
       "      <td>Wii</td>\n",
       "      <td>Nintendo</td>\n",
       "      <td>Nintendo EAD</td>\n",
       "      <td>NaN</td>\n",
       "      <td>8.0</td>\n",
       "      <td>...</td>\n",
       "      <td>NaN</td>\n",
       "      <td>NaN</td>\n",
       "      <td>NaN</td>\n",
       "      <td>2009.0</td>\n",
       "      <td>NaN</td>\n",
       "      <td>http://www.vgchartz.com/game/24656/wii-sports-...</td>\n",
       "      <td>1</td>\n",
       "      <td>8.8</td>\n",
       "      <td>/games/boxart/full_7295041AmericaFrontccc.jpg</td>\n",
       "      <td>33.09</td>\n",
       "    </tr>\n",
       "  </tbody>\n",
       "</table>\n",
       "<p>5 rows × 22 columns</p>\n",
       "</div>"
      ],
      "text/plain": [
       "   Rank                           Name                      basename  \\\n",
       "0     1                     Wii Sports                    wii-sports   \n",
       "1     2              Super Mario Bros.              super-mario-bros   \n",
       "2     3                 Mario Kart Wii                mario-kart-wii   \n",
       "3     4  PlayerUnknown's Battlegrounds  playerunknowns-battlegrounds   \n",
       "4     5              Wii Sports Resort             wii-sports-resort   \n",
       "\n",
       "      Genre ESRB_Rating Platform         Publisher         Developer  \\\n",
       "0    Sports           E      Wii          Nintendo      Nintendo EAD   \n",
       "1  Platform         NaN      NES          Nintendo      Nintendo EAD   \n",
       "2    Racing           E      Wii          Nintendo      Nintendo EAD   \n",
       "3   Shooter         NaN       PC  PUBG Corporation  PUBG Corporation   \n",
       "4    Sports           E      Wii          Nintendo      Nintendo EAD   \n",
       "\n",
       "   VGChartz_Score  Critic_Score  ...  PAL_Sales  JP_Sales  Other_Sales  \\\n",
       "0             NaN           7.7  ...        NaN       NaN          NaN   \n",
       "1             NaN          10.0  ...        NaN       NaN          NaN   \n",
       "2             NaN           8.2  ...        NaN       NaN          NaN   \n",
       "3             NaN           NaN  ...        NaN       NaN          NaN   \n",
       "4             NaN           8.0  ...        NaN       NaN          NaN   \n",
       "\n",
       "     Year  Last_Update                                                url  \\\n",
       "0  2006.0          NaN  http://www.vgchartz.com/game/2667/wii-sports/?...   \n",
       "1  1985.0          NaN  http://www.vgchartz.com/game/6455/super-mario-...   \n",
       "2  2008.0  11th Apr 18  http://www.vgchartz.com/game/6968/mario-kart-w...   \n",
       "3  2017.0  13th Nov 18  http://www.vgchartz.com/game/215988/playerunkn...   \n",
       "4  2009.0          NaN  http://www.vgchartz.com/game/24656/wii-sports-...   \n",
       "\n",
       "  status Vgchartzscore                                        img_url  \\\n",
       "0      1           NaN  /games/boxart/full_2258645AmericaFrontccc.jpg   \n",
       "1      1           NaN                   /games/boxart/8972270ccc.jpg   \n",
       "2      1           8.7  /games/boxart/full_8932480AmericaFrontccc.jpg   \n",
       "3      1           NaN  /games/boxart/full_8052843AmericaFrontccc.jpg   \n",
       "4      1           8.8  /games/boxart/full_7295041AmericaFrontccc.jpg   \n",
       "\n",
       "   Total_Sales  \n",
       "0        82.86  \n",
       "1        40.24  \n",
       "2        37.14  \n",
       "3        36.60  \n",
       "4        33.09  \n",
       "\n",
       "[5 rows x 22 columns]"
      ]
     },
     "execution_count": 3,
     "metadata": {},
     "output_type": "execute_result"
    }
   ],
   "source": [
    "dataset['Total_Sales'] = dataset.Total_Shipped.fillna(0) + dataset.Global_Sales.fillna(0)\n",
    "dataset = dataset[dataset.Total_Sales != 0]\n",
    "dataset = dataset.drop(['Total_Shipped','Global_Sales',], axis=1)\n",
    "dataset = dataset.sort_values(by=['Total_Sales'], ascending=False)\n",
    "\n",
    "dataset.head()"
   ]
  },
  {
   "cell_type": "markdown",
   "metadata": {},
   "source": [
    "Nuestro dataset contiene una lista de videojuegos con sus ventas y las críticas tanto de los usuarios como de los críticos:\n",
    "\n",
    "  ·  Rank - Ranking de ventas totales\n",
    "  \n",
    "  ·  Nombre - Nombre del juego\n",
    "  \n",
    "  ·  Plataforma: plataforma del juego (es decir, PC, PS4, XOne, etc.)\n",
    "  \n",
    "  ·  Género - Género del juego\n",
    "  \n",
    "  ·  Clasificación ESRB - Clasificación ESRB del juego\n",
    "  \n",
    "  ·  Editor - Editor del juego\n",
    "  \n",
    "  ·  Desarrollador - Desarrollador del juego\n",
    "  \n",
    "  ·  Puntaje crítico: puntaje crítico del juego de 10\n",
    "  \n",
    "  ·  Puntuación del usuario: los usuarios puntúan el juego desde 10\n",
    "  \n",
    "  ·  Total_Sales: Valor total de todas las ventas\n",
    "  \n",
    "  ·  NA_Sales - Ventas en América del Norte (en millones)\n",
    "  \n",
    "  ·  PAL_Sales - Ventas en Europa (en millones)\n",
    "  \n",
    "  ·  JP_Sales - Ventas en Japón (en millones)\n",
    "  \n",
    "  ·  Other_Sales - Ventas en el resto del mundo (en millones)\n",
    "  \n",
    "  ·  Año - Año de lanzamiento del juego.\n",
    "  \n",
    "  Como vemos hay multiples atributos interesantes para investigar. A primera vista podemos intuir que no habrà mucha relación entre los datos, puesto que se trata de un dataset donde la información no se basa en lo que ya tenemos sinó en lo que està de moda en cada región y cada momento. Es un dataset dificil de estudiar hablando en tèrminos de correlación entre los datos. "
   ]
  },
  {
   "cell_type": "markdown",
   "metadata": {},
   "source": [
    "Antes de comenzar a estudiar nuestros datos debemos dejarlos de forma que se pueda realizar un estudio sobre ellos, es lo que se conoce como la normalización de los datos. Vamos a comprobar la cantidad de nulls que tiene nuestro dataset, para luego eliminarlos y poder limpiarlo de valores que distorsionan la realidad."
   ]
  },
  {
   "cell_type": "code",
   "execution_count": 4,
   "metadata": {},
   "outputs": [
    {
     "name": "stdout",
     "output_type": "stream",
     "text": [
      "VGChartz_Score    19862\n",
      "User_Score        19624\n",
      "Vgchartzscore     19335\n",
      "Last_Update       15192\n",
      "Critic_Score      15156\n",
      "JP_Sales          13071\n",
      "PAL_Sales          7737\n",
      "NA_Sales           7085\n",
      "ESRB_Rating        5937\n",
      "Other_Sales        5352\n",
      "Year                  3\n",
      "Developer             2\n",
      "Platform              0\n",
      "Name                  0\n",
      "basename              0\n",
      "Genre                 0\n",
      "Total_Sales           0\n",
      "Publisher             0\n",
      "img_url               0\n",
      "url                   0\n",
      "status                0\n",
      "Rank                  0\n",
      "dtype: int64\n"
     ]
    },
    {
     "data": {
      "image/png": "[encoded data removed]",
      "text/plain": [
       "<Figure size 1440x720 with 1 Axes>"
      ]
     },
     "metadata": {
      "needs_background": "light"
     },
     "output_type": "display_data"
    },
    {
     "data": {
      "text/plain": [
       "<AxesSubplot:>"
      ]
     },
     "execution_count": 4,
     "metadata": {},
     "output_type": "execute_result"
    },
    {
     "data": {
      "image/png": "[encoded data removed]",
      "text/plain": [
       "<Figure size 432x288 with 1 Axes>"
      ]
     },
     "metadata": {
      "needs_background": "light"
     },
     "output_type": "display_data"
    }
   ],
   "source": [
    "N_null = dataset.isnull().sum()\n",
    "N_null.sort_values(inplace=True, ascending=False)\n",
    "N_null.plot(kind='bar',stacked=True,figsize=(20,10))\n",
    "sns.despine(left=True, bottom=True)\n",
    "print(N_null)\n",
    "plt.show()\n",
    "sns.heatmap(dataset.isnull(), cbar=False)"
   ]
  },
  {
   "cell_type": "markdown",
   "metadata": {},
   "source": [
    "Como hemos visto, algunas de las variables contienen una gran cantidad de nulls, lo que dificulta el estudio. Lo que vamos a hacer a continuación es deshacernos de todas las variables que contienen una gran cantidad de null puesto que normalizar los datos añade error en los valores. Si tratàsemos de normalizar unan gran cantidad de datos estaríamos añadiendo demasiados valores erroneos que modificarían los resultados. "
   ]
  },
  {
   "cell_type": "code",
   "execution_count": 5,
   "metadata": {},
   "outputs": [],
   "source": [
    "dataset = dataset.drop(['Critic_Score', 'Last_Update', 'Vgchartzscore', 'User_Score', 'VGChartz_Score', 'img_url', 'url', 'basename', 'ESRB_Rating', 'JP_Sales', 'PAL_Sales', 'NA_Sales', 'Other_Sales'], axis=1)"
   ]
  },
  {
   "cell_type": "code",
   "execution_count": 6,
   "metadata": {},
   "outputs": [
    {
     "name": "stdout",
     "output_type": "stream",
     "text": [
      "Year           3\n",
      "Developer      2\n",
      "Total_Sales    0\n",
      "status         0\n",
      "Publisher      0\n",
      "Platform       0\n",
      "Genre          0\n",
      "Name           0\n",
      "Rank           0\n",
      "dtype: int64\n"
     ]
    }
   ],
   "source": [
    "N_null = dataset.isnull().sum()\n",
    "N_null.sort_values(inplace=True, ascending=False)\n",
    "print(N_null)"
   ]
  },
  {
   "cell_type": "markdown",
   "metadata": {},
   "source": [
    "Ahora que nuestros datos ya no tienen variables con grandes valores null vamos a normalizar los datos que tengan pocos valores así. \n",
    "Eliminamos los NaN para evitar futuros errores y sustituimos los nulls de Year y developer ya que tienen una baja cantidad de nulls i el error que introduciremos a los datos no es elevado:"
   ]
  },
  {
   "cell_type": "code",
   "execution_count": 7,
   "metadata": {
    "scrolled": true
   },
   "outputs": [
    {
     "name": "stdout",
     "output_type": "stream",
     "text": [
      "Total_Sales    0\n",
      "status         0\n",
      "Year           0\n",
      "Developer      0\n",
      "Publisher      0\n",
      "Platform       0\n",
      "Genre          0\n",
      "Name           0\n",
      "Rank           0\n",
      "dtype: int64\n"
     ]
    }
   ],
   "source": [
    "dataset = dataset.dropna()\n",
    "dataset[\"Year\"].fillna(dataset[\"Year\"].mode(), inplace=True)\n",
    "dataset[\"Developer\"].fillna(dataset[\"Developer\"].mode(), inplace=True)\n",
    "N_null = dataset.isnull().sum()\n",
    "N_null.sort_values(inplace=True, ascending=False)\n",
    "print(N_null)\n"
   ]
  },
  {
   "cell_type": "markdown",
   "metadata": {},
   "source": [
    "Ahora podemos decir que tenemos un conjunto de datos \"limpios\" y listos para ser analizados: "
   ]
  },
  {
   "cell_type": "code",
   "execution_count": 8,
   "metadata": {},
   "outputs": [
    {
     "data": {
      "text/plain": [
       "<AxesSubplot:>"
      ]
     },
     "execution_count": 8,
     "metadata": {},
     "output_type": "execute_result"
    },
    {
     "data": {
      "image/png": "[encoded data removed]",
      "text/plain": [
       "<Figure size 432x288 with 1 Axes>"
      ]
     },
     "metadata": {
      "needs_background": "light"
     },
     "output_type": "display_data"
    }
   ],
   "source": [
    "sns.heatmap(dataset.isnull(), cbar=False)"
   ]
  },
  {
   "cell_type": "markdown",
   "metadata": {},
   "source": [
    "## PREPARACION DE LOS DATOS\n",
    "\n",
    "Una vez llegados a este punto existen muchas formas de realizar investigaciones sobre datasets y multiples conclusiones a las que llegar dependiendo de cual se aplique. En nuestro caso lo que buscamos es aplicar algoritmos de classificación por lo que vamos a realizar un procesamiento de los datos adaptado a lo que buscamos. Nuestro objetivo final descubrir si existe algún tipo de correlación entre las variables del dataset con la finalidad de poder classificarlas en función de esa relación. \n",
    "\n",
    "Lo primero que vamos a hacer es estudiar la correlación que existe entre las diferentes variables de nuestro dataset ya normalizado. "
   ]
  },
  {
   "cell_type": "markdown",
   "metadata": {},
   "source": [
    "A continuación vamos a mostrar la matriz de correlación entra las variables de nuestro dataset normalizado: "
   ]
  },
  {
   "cell_type": "code",
   "execution_count": 9,
   "metadata": {},
   "outputs": [
    {
     "data": {
      "text/plain": [
       "<AxesSubplot:>"
      ]
     },
     "execution_count": 9,
     "metadata": {},
     "output_type": "execute_result"
    },
    {
     "data": {
      "image/png": "[encoded data removed]",
      "text/plain": [
       "<Figure size 1200x1200 with 2 Axes>"
      ]
     },
     "metadata": {
      "needs_background": "light"
     },
     "output_type": "display_data"
    }
   ],
   "source": [
    "plt.figure(figsize=(15, 15), dpi=80)\n",
    "sns.heatmap(dataset.corr(), annot=True, cmap=\"YlGnBu\")"
   ]
  },
  {
   "cell_type": "markdown",
   "metadata": {},
   "source": [
    "Antes de continuar hay algo que debemos tener en cuenta, y es que este tipo de correlación no es capaz de trabajar con variables de tipo string, por lo que no nos permite ver la correlación con ellas. Para poder solucionar esto lo que vamos a hacer es convertir esas variables de tipo string en variables de tipo int, de forma que podamos ver si existe una correlación entre ellas también o no.\n",
    "\n",
    "Como podemos ver, algunas de las variables que tenemos en el dataset no se muestran en nuestra tabla de correlación. Esto se debe a lo que se acaba de comentar, por lo que vamos a proceder a realizar la sustitución los valores string por int:"
   ]
  },
  {
   "cell_type": "code",
   "execution_count": 10,
   "metadata": {},
   "outputs": [
    {
     "name": "stdout",
     "output_type": "stream",
     "text": [
      "   Rank   Name  Genre  Platform  Publisher  Developer    Year  status  \\\n",
      "0     1  13258     17        34        564       1931  2006.0       1   \n",
      "1     2  11212     10        14        564       1931  1985.0       1   \n",
      "2     3   6713     12        34        564       1931  2008.0       1   \n",
      "3     4   8782     15        18        602       2031  2017.0       1   \n",
      "4     5  13260     17        34        564       1931  2009.0       1   \n",
      "\n",
      "   Total_Sales  \n",
      "0        82.86  \n",
      "1        40.24  \n",
      "2        37.14  \n",
      "3        36.60  \n",
      "4        33.09  \n"
     ]
    }
   ],
   "source": [
    "LabEncoder = preprocessing.LabelEncoder()\n",
    "atributes = ['Name', 'Genre', 'Platform','Publisher', 'Developer']\n",
    "for atribute in atributes:\n",
    "    LabEncoder.fit(dataset[atribute])\n",
    "    dataset[atribute] = LabEncoder.transform(dataset[atribute])\n",
    "print(dataset.head())"
   ]
  },
  {
   "cell_type": "markdown",
   "metadata": {},
   "source": [
    "Si nos volvemos a fijar en la matriz de correlación anterior, podemos apreciar algo más a parte de la falta de variables. Si detenemos un momento y analizamos, vemos que se trata de una matriz extraña, la fila y columna de la variable \"status\" aparecen completamente en blanco, mostrando una correlación de 0 absoluto con el resto de variables. \n",
    "\n",
    "Si vamos a nuestro dataset inicial y analizamos los datos, podemos observar que el valor de la variable \"status\" es siempre 1. Esto significa que lógicamente no va a tener ningún tipo de relación con el resto de variables, puesto que suban, bajen o se mantengan, los valores de status no van a verse afectados. Esto hace que se trate de una variable absurda en nuestra investigación, por lo que vamos a proceder a eliminarla del dataset. "
   ]
  },
  {
   "cell_type": "code",
   "execution_count": 11,
   "metadata": {},
   "outputs": [],
   "source": [
    "dataset = dataset.drop(['status'], axis=1)"
   ]
  },
  {
   "cell_type": "markdown",
   "metadata": {},
   "source": [
    "Una vez hemos eliminado esta variable y hemos realizado el cambio de variables String por Int podemos volver mostrar la matriz de correlación y ver que ahora si que tiene la forma que podiamos imaginar en un principio:"
   ]
  },
  {
   "cell_type": "code",
   "execution_count": 12,
   "metadata": {},
   "outputs": [
    {
     "name": "stdout",
     "output_type": "stream",
     "text": [
      "Cantidad de géneros diferentes:  20\n"
     ]
    },
    {
     "data": {
      "image/png": "[encoded data removed]",
      "text/plain": [
       "<Figure size 1200x1200 with 2 Axes>"
      ]
     },
     "metadata": {
      "needs_background": "light"
     },
     "output_type": "display_data"
    }
   ],
   "source": [
    "plt.figure(figsize=(15, 15), dpi=80)\n",
    "sns.heatmap(dataset.corr(), annot=True, cmap=\"YlGnBu\")\n",
    "\n",
    "print(\"Cantidad de géneros diferentes: \", len(dataset['Genre'].unique()))"
   ]
  },
  {
   "cell_type": "markdown",
   "metadata": {},
   "source": [
    "*Destacar que encima de la matriz de correlación anterior se muestra la cantidad de géneros que contienen el dataset.*\n",
    "\n",
    "Una vez realizado este cambio ya podemos proceder con la matriz de correlación de nuestras variables. Analizando la matriz y sus colores podemos ver que las variables tienen poca correlación entre ellas como teorizábamos al inicio del documento. \n",
    "\n",
    "Vemos que las variables que més correlación llegan a tener entre ellas son los Desarrolladores con los Publicadores (lógico ya que si miramos los datos vemosq que son prácticamente lo mismo). Otras variables que pueden guardar cierta relación son las Plataformas y el año de salida, cosa que tiene más sentido. Si lo pensamos con detenimiento cuando un año una Plataforma es la destacada se suelen sacar más videojuegos para ella. \n",
    "\n",
    "Aún así nosotros basaremos nuestra investigación en el género. "
   ]
  },
  {
   "cell_type": "markdown",
   "metadata": {},
   "source": [
    "## ENTRENAMIENTO DE LOS MODELOS\n",
    "\n",
    "En esta sección vamos a llevar a cabo todo lo que tiene que ver con modelos de classificación y su entrenamiento.\n",
    "En primera instáncia vamos a dividir los datos en datos de entrenamiento y datos de validación. Hemos decidido hacerlo en un 80 - 20 respectivamente puesto que es la división más utilizada por lo general. \n",
    "\n",
    "Vamos a realizar el estudio sobre el dataset con los ID de \"genre\" puesto que como hemos dicho al ser string no puede detectarlos para trabajar correctamente. \n",
    "\n",
    "Para hacerlo eliminamos la variable \"Genre\" del dataset completo puesto que es la variable que queremos investigar y vamos a metrla sola en un nuevo dataset: "
   ]
  },
  {
   "cell_type": "code",
   "execution_count": 13,
   "metadata": {},
   "outputs": [
    {
     "name": "stdout",
     "output_type": "stream",
     "text": [
      "0    17\n",
      "1    10\n",
      "2    12\n",
      "3    15\n",
      "4    17\n",
      "Name: Genre, dtype: int32\n"
     ]
    }
   ],
   "source": [
    "X = dataset.drop(['Genre'], axis=1)\n",
    "Y = dataset['Genre']\n",
    "\n",
    "print(Y.head())\n",
    "\n",
    "X_train, X_test, Y_train, Y_test = train_test_split(X, Y, train_size=0.8)\n",
    "\n",
    "Sscaler = StandardScaler()\n",
    "Sscaler.fit(X_train)\n",
    "\n",
    "X_train = Sscaler.transform(X_train)\n",
    "X_test = Sscaler.transform(X_test)"
   ]
  },
  {
   "cell_type": "code",
   "execution_count": 14,
   "metadata": {},
   "outputs": [],
   "source": [
    "X_train, X_test, Y_train, Y_test = train_test_split(X, Y, train_size=0.8)\n",
    "Sscaler = StandardScaler()\n",
    "Sscaler.fit(X_train)\n",
    "X_train = Sscaler.transform(X_train)\n",
    "X_test = Sscaler.transform(X_test)"
   ]
  },
  {
   "cell_type": "markdown",
   "metadata": {},
   "source": [
    "## Aplicación de modelos de clasificación y sus hyperparámetros\n",
    "Los hiperparámetros escogidos en los modelso a continuación han ido siendo testeados has ver con que valores podiamos mostrar lo que buscávamos de la manera más comprensible. "
   ]
  },
  {
   "cell_type": "markdown",
   "metadata": {},
   "source": [
    "## Modelo: Decision Tree\n",
    "Vamos a comenzar con el modelo decision tree. En este caso aplicamos dos tipos de hypercriterios para ver cual de ellos classifica mejor y cual nos puede ser más útil para este trabajo. "
   ]
  },
  {
   "cell_type": "code",
   "execution_count": 15,
   "metadata": {},
   "outputs": [
    {
     "name": "stdout",
     "output_type": "stream",
     "text": [
      "F1 score:  0.3609211428383207\n",
      "Criterion: Gini\n",
      "\n",
      "F1 score:  0.32092088342272457\n",
      "Criterion: Entropy\n",
      "\n"
     ]
    }
   ],
   "source": [
    "dt = DecisionTreeClassifier(random_state=0, criterion='gini')\n",
    "dt.fit(X_train, Y_train)\n",
    "print (\"F1 score: \", f1_score(Y_test, dt.predict(X_test), average='macro'))\n",
    "print(\"Criterion:\", 'Gini')\n",
    "print(\"\")\n",
    "\n",
    "dt = DecisionTreeClassifier(random_state=0, criterion='entropy')\n",
    "dt.fit(X_train, Y_train)\n",
    "print (\"F1 score: \", f1_score(Y_test, dt.predict(X_test), average='macro'))\n",
    "print(\"Criterion:\", 'Entropy')\n",
    "print(\"\")"
   ]
  },
  {
   "cell_type": "markdown",
   "metadata": {},
   "source": [
    "En el caso de Decision Tree y tras realizar diversas ejecuciones, se puede apreciar que la mayoria de las veces el hyperparámetro \"gini\" nos da un mejor resultado que \"entropy\". Aun así, hay que destacar que ambos modelos dan un resultado bastante bajo y parecido. Esto se debe a que como comentabamos anteriormente, la correlación que puedan tener las variables con el género es baja, puesto que los géneros de un videojuego no aparecen más dependiendo de un año o de una plataforma. Esto sucede por cosas como que muchas de las plataformas comparten videojuegos o que depende de lo que esté de moda en el momento. "
   ]
  },
  {
   "cell_type": "markdown",
   "metadata": {},
   "source": [
    "## Modelo: Logistic Regression\n",
    "\n",
    "Para este modelo, tras haber probado con multiples hiperparámetros creemos que los que más muestran lo que sucede con los datos son [0.1, 10, 100, 1000].\n",
    "Vemos que una los resultados mejoran hasta llegar a 10. A partir de ese valor los resultados se estancan y dejan de crecer."
   ]
  },
  {
   "cell_type": "code",
   "execution_count": 16,
   "metadata": {},
   "outputs": [
    {
     "name": "stdout",
     "output_type": "stream",
     "text": [
      "Regresión Logística\n",
      "F1 score:  0.0705895626921464\n",
      "C: 0.1\n",
      "\n",
      "Regresión Logística\n",
      "F1 score:  0.07159514680622799\n",
      "C: 10\n",
      "\n",
      "Regresión Logística\n",
      "F1 score:  0.07160166804305684\n",
      "C: 100\n",
      "\n",
      "Regresión Logística\n",
      "F1 score: 0.07160166804305684\n",
      "C: 1000\n",
      "\n"
     ]
    }
   ],
   "source": [
    "print(\"Regresión Logística\")\n",
    "LogReg = LogisticRegression(C=0.1, max_iter=100000)\n",
    "\n",
    "LogReg.fit(X_train, Y_train)\n",
    "print (\"F1 score: \", f1_score(Y_test, LogReg.predict(X_test), average='macro'))\n",
    "\n",
    "print(\"C:\", 0.1)\n",
    "print(\"\")\n",
    "\n",
    "\n",
    "print(\"Regresión Logística\")\n",
    "LogReg = LogisticRegression(C=10, max_iter=100000)\n",
    "\n",
    "LogReg.fit(X_train, Y_train)\n",
    "print (\"F1 score: \", f1_score(Y_test, LogReg.predict(X_test), average='macro'))\n",
    "\n",
    "print(\"C:\", 10)\n",
    "print(\"\")\n",
    "\n",
    "\n",
    "print(\"Regresión Logística\")\n",
    "LogReg = LogisticRegression(C=100, max_iter=100000)\n",
    "\n",
    "LogReg.fit(X_train, Y_train)\n",
    "print (\"F1 score: \", f1_score(Y_test, LogReg.predict(X_test), average='macro'))\n",
    "\n",
    "print(\"C:\", 100)\n",
    "print(\"\")\n",
    "\n",
    "\n",
    "print(\"Regresión Logística\")\n",
    "LogReg = LogisticRegression(C=1000, max_iter=100000)\n",
    "\n",
    "LogReg.fit(X_train, Y_train)\n",
    "print (\"F1 score:\", f1_score(Y_test, LogReg.predict(X_test), average='macro'))\n",
    "\n",
    "print(\"C:\", 1000)\n",
    "print(\"\")"
   ]
  },
  {
   "cell_type": "markdown",
   "metadata": {},
   "source": [
    "Como hemos mencionado, a los valores son bastante similares con todos los hiperparámetros.\n",
    "También vemos que los resultados obtenidos no son realmente buenos, puesto que no logran obtener si quiera un resultado del 0.1. Aún así en el caso de la regresión logística el hyperparámetro que nos brinda un mejor resultado es C = 10."
   ]
  },
  {
   "cell_type": "markdown",
   "metadata": {},
   "source": [
    "## Validación de los datos\n",
    "Tras realizar la ejecucion de la parte de entrenamiento, vamos a proceder a realizar la de la parte de validación."
   ]
  },
  {
   "cell_type": "markdown",
   "metadata": {},
   "source": [
    "## Modelo: Decision Tree"
   ]
  },
  {
   "cell_type": "code",
   "execution_count": 17,
   "metadata": {},
   "outputs": [
    {
     "name": "stderr",
     "output_type": "stream",
     "text": [
      "C:\\Users\\danie\\anaconda3\\lib\\site-packages\\sklearn\\model_selection\\_split.py:670: UserWarning: The least populated class in y has only 2 members, which is less than n_splits=20.\n",
      "  warnings.warn((\"The least populated class in y has only %d\"\n"
     ]
    },
    {
     "name": "stdout",
     "output_type": "stream",
     "text": [
      "Cross Validation Score:  0.37856283152767534 std 0.03325762189816949\n"
     ]
    }
   ],
   "source": [
    "DecTree = DecisionTreeClassifier(random_state=0, criterion='gini')\n",
    "DecTree.fit(X_train, Y_train)\n",
    "CVDecTree = cross_val_score(DecTree, X_train, Y_train, cv=20, scoring='f1_macro')\n",
    "print(\"Cross Validation Score: \", CVDecTree.mean(), \"std\", CVDecTree.std())"
   ]
  },
  {
   "cell_type": "markdown",
   "metadata": {},
   "source": [
    "## Modelo: Logistic Regression"
   ]
  },
  {
   "cell_type": "code",
   "execution_count": 18,
   "metadata": {},
   "outputs": [
    {
     "name": "stderr",
     "output_type": "stream",
     "text": [
      "C:\\Users\\danie\\anaconda3\\lib\\site-packages\\sklearn\\model_selection\\_split.py:670: UserWarning: The least populated class in y has only 2 members, which is less than n_splits=10.\n",
      "  warnings.warn((\"The least populated class in y has only %d\"\n"
     ]
    },
    {
     "name": "stdout",
     "output_type": "stream",
     "text": [
      "Cross Validation Score:  0.07530875104057846 std 0.005960472133150235\n"
     ]
    }
   ],
   "source": [
    "LogReg = LogisticRegression(C=10, max_iter=100000)\n",
    "LogReg.fit(X_train, Y_train)\n",
    "CVDecLogReg = cross_val_score(LogReg, X_train, Y_train, cv=10, scoring='f1_macro')\n",
    "print(\"Cross Validation Score: \", CVDecLogReg.mean(), \"std\", CVDecLogReg.std())"
   ]
  },
  {
   "cell_type": "markdown",
   "metadata": {},
   "source": [
    "A continuación vamos a mostrar una tabla con los resultados obtenidos para poder hacer una comparación: "
   ]
  },
  {
   "cell_type": "code",
   "execution_count": 19,
   "metadata": {},
   "outputs": [
    {
     "data": {
      "text/html": [
       "<div>\n",
       "<style scoped>\n",
       "    .dataframe tbody tr th:only-of-type {\n",
       "        vertical-align: middle;\n",
       "    }\n",
       "\n",
       "    .dataframe tbody tr th {\n",
       "        vertical-align: top;\n",
       "    }\n",
       "\n",
       "    .dataframe thead th {\n",
       "        text-align: right;\n",
       "    }\n",
       "</style>\n",
       "<table border=\"1\" class=\"dataframe\">\n",
       "  <thead>\n",
       "    <tr style=\"text-align: right;\">\n",
       "      <th></th>\n",
       "      <th>Modelo</th>\n",
       "      <th>Media</th>\n",
       "      <th>std</th>\n",
       "    </tr>\n",
       "  </thead>\n",
       "  <tbody>\n",
       "    <tr>\n",
       "      <th>0</th>\n",
       "      <td>Decision Tree</td>\n",
       "      <td>0.378563</td>\n",
       "      <td>0.033258</td>\n",
       "    </tr>\n",
       "    <tr>\n",
       "      <th>1</th>\n",
       "      <td>Regresión Logística</td>\n",
       "      <td>0.075309</td>\n",
       "      <td>0.005960</td>\n",
       "    </tr>\n",
       "  </tbody>\n",
       "</table>\n",
       "</div>"
      ],
      "text/plain": [
       "                Modelo     Media       std\n",
       "0        Decision Tree  0.378563  0.033258\n",
       "1  Regresión Logística  0.075309  0.005960"
      ]
     },
     "execution_count": 19,
     "metadata": {},
     "output_type": "execute_result"
    }
   ],
   "source": [
    "tabla = pd.DataFrame(columns=[\"Modelo\", \"Media\", \"std\"])\n",
    "tabla = tabla.append({'Modelo': 'Decision Tree', 'Media': CVDecTree.mean(), 'std': CVDecTree.std()}, ignore_index=True)\n",
    "tabla = tabla.append({'Modelo': 'Regresión Logística', 'Media': CVDecLogReg.mean(), 'std': CVDecLogReg.std()}, ignore_index=True)\n",
    "tabla.sort_values(by=\"Media\", ascending=False)"
   ]
  },
  {
   "cell_type": "markdown",
   "metadata": {},
   "source": [
    "Como vemos el modelo de classificación Decission Tree con el hyperparámetro de \"gini\" se ajusta mucho más a nuestros datos, con un resultado de 0.37, que el modelo de regressión logística, con un resultado de 0.075."
   ]
  },
  {
   "cell_type": "markdown",
   "metadata": {},
   "source": [
    "## Conclusión\n",
    "Como hemos visto a lo largo de todo el informe, los datos de nuestro dataset no guardan correlación entre ellos, por lo que la aplicación de un modelo de classificación se vuelve complicada.\n",
    "\n",
    "Aún así, tras realizar varias pruebas hemos visto que el modelo de classificación que mejor se ajusta es el modelo de Decision Tree con una media de 0.378 de exito. \n",
    "\n",
    "Con esto podemos concluir que nuestra hipotesis principal sobre la casi inexistente correlación de las variables del dataset, y más en concreto con el género eran correctas, y no guardan relación. "
   ]
  }
 ],
 "metadata": {
  "kernelspec": {
   "display_name": "Python 3",
   "language": "python",
   "name": "python3"
  },
  "language_info": {
   "codemirror_mode": {
    "name": "ipython",
    "version": 3
   },
   "file_extension": ".py",
   "mimetype": "text/x-python",
   "name": "python",
   "nbconvert_exporter": "python",
   "pygments_lexer": "ipython3",
   "version": "3.8.5"
  }
 },
 "nbformat": 4,
 "nbformat_minor": 4
}
